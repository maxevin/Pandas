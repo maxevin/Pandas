{
 "metadata": {
  "language_info": {
   "codemirror_mode": {
    "name": "ipython",
    "version": 3
   },
   "file_extension": ".py",
   "mimetype": "text/x-python",
   "name": "python",
   "nbconvert_exporter": "python",
   "pygments_lexer": "ipython3",
   "version": "3.9.2-final"
  },
  "orig_nbformat": 2,
  "kernelspec": {
   "name": "python3",
   "display_name": "Python 3.9.2 64-bit",
   "metadata": {
    "interpreter": {
     "hash": "d2d5482f2aa6a6f9649161e4dbdb4fdca590b2a786a704fd22b561697b418131"
    }
   }
  }
 },
 "nbformat": 4,
 "nbformat_minor": 2,
 "cells": [
  {
   "cell_type": "code",
   "execution_count": 2,
   "metadata": {},
   "outputs": [],
   "source": [
    "import numpy as np\n",
    "import pandas as pd"
   ]
  },
  {
   "cell_type": "code",
   "execution_count": 7,
   "metadata": {},
   "outputs": [],
   "source": [
    "labels = ['q','w','e']\n",
    "my_list = [500,600,700]\n",
    "arr = np.array([700,800,900])\n",
    "x = {'q':500,'w':600,'e':700}"
   ]
  },
  {
   "cell_type": "code",
   "execution_count": 3,
   "metadata": {},
   "outputs": [
    {
     "output_type": "execute_result",
     "data": {
      "text/plain": [
       "0    500\n",
       "1    600\n",
       "2    700\n",
       "dtype: int64"
      ]
     },
     "metadata": {},
     "execution_count": 3
    }
   ],
   "source": [
    "pd.Series(data=my_list)"
   ]
  },
  {
   "cell_type": "code",
   "execution_count": 9,
   "metadata": {},
   "outputs": [
    {
     "output_type": "execute_result",
     "data": {
      "text/plain": [
       "q    500\n",
       "w    600\n",
       "e    700\n",
       "dtype: int64"
      ]
     },
     "metadata": {},
     "execution_count": 9
    }
   ],
   "source": [
    "pd.Series(data=my_list,index=labels)"
   ]
  },
  {
   "cell_type": "code",
   "execution_count": 8,
   "metadata": {},
   "outputs": [
    {
     "output_type": "execute_result",
     "data": {
      "text/plain": [
       "0    700\n",
       "1    800\n",
       "2    900\n",
       "dtype: int32"
      ]
     },
     "metadata": {},
     "execution_count": 8
    }
   ],
   "source": [
    "pd.Series(arr)"
   ]
  },
  {
   "cell_type": "code",
   "execution_count": 10,
   "metadata": {},
   "outputs": [
    {
     "output_type": "execute_result",
     "data": {
      "text/plain": [
       "q    500\n",
       "w    600\n",
       "e    700\n",
       "dtype: int64"
      ]
     },
     "metadata": {},
     "execution_count": 10
    }
   ],
   "source": [
    "pd.Series(x)"
   ]
  },
  {
   "cell_type": "code",
   "execution_count": 22,
   "metadata": {},
   "outputs": [],
   "source": [
    "a = [i for i in range (70,74)]\n",
    "b = [i for i in range (74,78)]\n",
    "c = [i for i in range (78,82)]"
   ]
  },
  {
   "cell_type": "code",
   "execution_count": 23,
   "metadata": {},
   "outputs": [
    {
     "output_type": "execute_result",
     "data": {
      "text/plain": [
       "    w   x   y   z\n",
       "a  70  71  72  73\n",
       "b  74  75  76  77\n",
       "c  78  79  80  81"
      ],
      "text/html": "<div>\n<style scoped>\n    .dataframe tbody tr th:only-of-type {\n        vertical-align: middle;\n    }\n\n    .dataframe tbody tr th {\n        vertical-align: top;\n    }\n\n    .dataframe thead th {\n        text-align: right;\n    }\n</style>\n<table border=\"1\" class=\"dataframe\">\n  <thead>\n    <tr style=\"text-align: right;\">\n      <th></th>\n      <th>w</th>\n      <th>x</th>\n      <th>y</th>\n      <th>z</th>\n    </tr>\n  </thead>\n  <tbody>\n    <tr>\n      <th>a</th>\n      <td>70</td>\n      <td>71</td>\n      <td>72</td>\n      <td>73</td>\n    </tr>\n    <tr>\n      <th>b</th>\n      <td>74</td>\n      <td>75</td>\n      <td>76</td>\n      <td>77</td>\n    </tr>\n    <tr>\n      <th>c</th>\n      <td>78</td>\n      <td>79</td>\n      <td>80</td>\n      <td>81</td>\n    </tr>\n  </tbody>\n</table>\n</div>"
     },
     "metadata": {},
     "execution_count": 23
    }
   ],
   "source": [
    "pd.DataFrame(data=[a,b,c],\n",
    "index = 'a b c'.split(),\n",
    "columns = 'w x y z'.split())"
   ]
  },
  {
   "cell_type": "code",
   "execution_count": 25,
   "metadata": {},
   "outputs": [
    {
     "output_type": "execute_result",
     "data": {
      "text/plain": [
       "    a   b   c\n",
       "w  70  74  78\n",
       "x  71  75  79\n",
       "y  72  76  80\n",
       "z  73  77  81"
      ],
      "text/html": "<div>\n<style scoped>\n    .dataframe tbody tr th:only-of-type {\n        vertical-align: middle;\n    }\n\n    .dataframe tbody tr th {\n        vertical-align: top;\n    }\n\n    .dataframe thead th {\n        text-align: right;\n    }\n</style>\n<table border=\"1\" class=\"dataframe\">\n  <thead>\n    <tr style=\"text-align: right;\">\n      <th></th>\n      <th>a</th>\n      <th>b</th>\n      <th>c</th>\n    </tr>\n  </thead>\n  <tbody>\n    <tr>\n      <th>w</th>\n      <td>70</td>\n      <td>74</td>\n      <td>78</td>\n    </tr>\n    <tr>\n      <th>x</th>\n      <td>71</td>\n      <td>75</td>\n      <td>79</td>\n    </tr>\n    <tr>\n      <th>y</th>\n      <td>72</td>\n      <td>76</td>\n      <td>80</td>\n    </tr>\n    <tr>\n      <th>z</th>\n      <td>73</td>\n      <td>77</td>\n      <td>81</td>\n    </tr>\n  </tbody>\n</table>\n</div>"
     },
     "metadata": {},
     "execution_count": 25
    }
   ],
   "source": [
    "pd.DataFrame(data=list(zip(a,b,c)),\n",
    "index = 'w x y z'.split(),\n",
    "columns = 'a b c'.split())"
   ]
  },
  {
   "cell_type": "code",
   "execution_count": 26,
   "metadata": {},
   "outputs": [],
   "source": [
    "from numpy.random import randn\n",
    "np.random.seed(101)\n"
   ]
  },
  {
   "cell_type": "code",
   "execution_count": 30,
   "metadata": {},
   "outputs": [],
   "source": [
    "df = pd.DataFrame(randn(5,4),index = 'A B C D E'.split())\n"
   ]
  },
  {
   "cell_type": "code",
   "execution_count": 31,
   "metadata": {},
   "outputs": [
    {
     "output_type": "execute_result",
     "data": {
      "text/plain": [
       "          0         1         2         3\n",
       "A  0.386030  2.084019 -0.376519  0.230336\n",
       "B  0.681209  1.035125 -0.031160  1.939932\n",
       "C -1.005187 -0.741790  0.187125 -0.732845\n",
       "D -1.382920  1.482495  0.961458 -2.141212\n",
       "E  0.992573  1.192241 -1.046780  1.292765"
      ],
      "text/html": "<div>\n<style scoped>\n    .dataframe tbody tr th:only-of-type {\n        vertical-align: middle;\n    }\n\n    .dataframe tbody tr th {\n        vertical-align: top;\n    }\n\n    .dataframe thead th {\n        text-align: right;\n    }\n</style>\n<table border=\"1\" class=\"dataframe\">\n  <thead>\n    <tr style=\"text-align: right;\">\n      <th></th>\n      <th>0</th>\n      <th>1</th>\n      <th>2</th>\n      <th>3</th>\n    </tr>\n  </thead>\n  <tbody>\n    <tr>\n      <th>A</th>\n      <td>0.386030</td>\n      <td>2.084019</td>\n      <td>-0.376519</td>\n      <td>0.230336</td>\n    </tr>\n    <tr>\n      <th>B</th>\n      <td>0.681209</td>\n      <td>1.035125</td>\n      <td>-0.031160</td>\n      <td>1.939932</td>\n    </tr>\n    <tr>\n      <th>C</th>\n      <td>-1.005187</td>\n      <td>-0.741790</td>\n      <td>0.187125</td>\n      <td>-0.732845</td>\n    </tr>\n    <tr>\n      <th>D</th>\n      <td>-1.382920</td>\n      <td>1.482495</td>\n      <td>0.961458</td>\n      <td>-2.141212</td>\n    </tr>\n    <tr>\n      <th>E</th>\n      <td>0.992573</td>\n      <td>1.192241</td>\n      <td>-1.046780</td>\n      <td>1.292765</td>\n    </tr>\n  </tbody>\n</table>\n</div>"
     },
     "metadata": {},
     "execution_count": 31
    }
   ],
   "source": [
    "df"
   ]
  },
  {
   "cell_type": "code",
   "execution_count": 32,
   "metadata": {},
   "outputs": [
    {
     "output_type": "execute_result",
     "data": {
      "text/plain": [
       "   a  b   c\n",
       "w  1  5   9\n",
       "x  2  6  10\n",
       "y  3  7  11\n",
       "z  4  8  12"
      ],
      "text/html": "<div>\n<style scoped>\n    .dataframe tbody tr th:only-of-type {\n        vertical-align: middle;\n    }\n\n    .dataframe tbody tr th {\n        vertical-align: top;\n    }\n\n    .dataframe thead th {\n        text-align: right;\n    }\n</style>\n<table border=\"1\" class=\"dataframe\">\n  <thead>\n    <tr style=\"text-align: right;\">\n      <th></th>\n      <th>a</th>\n      <th>b</th>\n      <th>c</th>\n    </tr>\n  </thead>\n  <tbody>\n    <tr>\n      <th>w</th>\n      <td>1</td>\n      <td>5</td>\n      <td>9</td>\n    </tr>\n    <tr>\n      <th>x</th>\n      <td>2</td>\n      <td>6</td>\n      <td>10</td>\n    </tr>\n    <tr>\n      <th>y</th>\n      <td>3</td>\n      <td>7</td>\n      <td>11</td>\n    </tr>\n    <tr>\n      <th>z</th>\n      <td>4</td>\n      <td>8</td>\n      <td>12</td>\n    </tr>\n  </tbody>\n</table>\n</div>"
     },
     "metadata": {},
     "execution_count": 32
    }
   ],
   "source": [
    "my_d = {'a':[1,2,3,4],\n",
    "'b':[5,6,7,8],\n",
    "'c':[9,10,11,12]}\n",
    "pd.DataFrame(my_d,\n",
    "index = 'w x y z'.split())"
   ]
  },
  {
   "cell_type": "code",
   "execution_count": 33,
   "metadata": {},
   "outputs": [
    {
     "output_type": "execute_result",
     "data": {
      "text/plain": [
       "            0         1         2         3\n",
       "A    0.386030  2.084019 -0.376519  0.230336\n",
       "B    0.681209  1.035125 -0.031160  1.939932\n",
       "C   -1.005187 -0.741790  0.187125 -0.732845\n",
       "D   -1.382920  1.482495  0.961458 -2.141212\n",
       "E    0.992573  1.192241 -1.046780  1.292765\n",
       "new  1.000000  2.000000  3.000000  4.000000"
      ],
      "text/html": "<div>\n<style scoped>\n    .dataframe tbody tr th:only-of-type {\n        vertical-align: middle;\n    }\n\n    .dataframe tbody tr th {\n        vertical-align: top;\n    }\n\n    .dataframe thead th {\n        text-align: right;\n    }\n</style>\n<table border=\"1\" class=\"dataframe\">\n  <thead>\n    <tr style=\"text-align: right;\">\n      <th></th>\n      <th>0</th>\n      <th>1</th>\n      <th>2</th>\n      <th>3</th>\n    </tr>\n  </thead>\n  <tbody>\n    <tr>\n      <th>A</th>\n      <td>0.386030</td>\n      <td>2.084019</td>\n      <td>-0.376519</td>\n      <td>0.230336</td>\n    </tr>\n    <tr>\n      <th>B</th>\n      <td>0.681209</td>\n      <td>1.035125</td>\n      <td>-0.031160</td>\n      <td>1.939932</td>\n    </tr>\n    <tr>\n      <th>C</th>\n      <td>-1.005187</td>\n      <td>-0.741790</td>\n      <td>0.187125</td>\n      <td>-0.732845</td>\n    </tr>\n    <tr>\n      <th>D</th>\n      <td>-1.382920</td>\n      <td>1.482495</td>\n      <td>0.961458</td>\n      <td>-2.141212</td>\n    </tr>\n    <tr>\n      <th>E</th>\n      <td>0.992573</td>\n      <td>1.192241</td>\n      <td>-1.046780</td>\n      <td>1.292765</td>\n    </tr>\n    <tr>\n      <th>new</th>\n      <td>1.000000</td>\n      <td>2.000000</td>\n      <td>3.000000</td>\n      <td>4.000000</td>\n    </tr>\n  </tbody>\n</table>\n</div>"
     },
     "metadata": {},
     "execution_count": 33
    }
   ],
   "source": [
    "df.loc['new']=[1,2,3,4]\n",
    "df"
   ]
  },
  {
   "cell_type": "code",
   "execution_count": 35,
   "metadata": {},
   "outputs": [
    {
     "output_type": "execute_result",
     "data": {
      "text/plain": [
       "            0         1         2         3       new\n",
       "A    0.386030  2.084019 -0.376519  0.230336  0.009512\n",
       "B    0.681209  1.035125 -0.031160  1.939932  0.650049\n",
       "C   -1.005187 -0.741790  0.187125 -0.732845 -0.818062\n",
       "D   -1.382920  1.482495  0.961458 -2.141212 -0.421462\n",
       "E    0.992573  1.192241 -1.046780  1.292765 -0.054206\n",
       "new  1.000000  2.000000  3.000000  4.000000  4.000000"
      ],
      "text/html": "<div>\n<style scoped>\n    .dataframe tbody tr th:only-of-type {\n        vertical-align: middle;\n    }\n\n    .dataframe tbody tr th {\n        vertical-align: top;\n    }\n\n    .dataframe thead th {\n        text-align: right;\n    }\n</style>\n<table border=\"1\" class=\"dataframe\">\n  <thead>\n    <tr style=\"text-align: right;\">\n      <th></th>\n      <th>0</th>\n      <th>1</th>\n      <th>2</th>\n      <th>3</th>\n      <th>new</th>\n    </tr>\n  </thead>\n  <tbody>\n    <tr>\n      <th>A</th>\n      <td>0.386030</td>\n      <td>2.084019</td>\n      <td>-0.376519</td>\n      <td>0.230336</td>\n      <td>0.009512</td>\n    </tr>\n    <tr>\n      <th>B</th>\n      <td>0.681209</td>\n      <td>1.035125</td>\n      <td>-0.031160</td>\n      <td>1.939932</td>\n      <td>0.650049</td>\n    </tr>\n    <tr>\n      <th>C</th>\n      <td>-1.005187</td>\n      <td>-0.741790</td>\n      <td>0.187125</td>\n      <td>-0.732845</td>\n      <td>-0.818062</td>\n    </tr>\n    <tr>\n      <th>D</th>\n      <td>-1.382920</td>\n      <td>1.482495</td>\n      <td>0.961458</td>\n      <td>-2.141212</td>\n      <td>-0.421462</td>\n    </tr>\n    <tr>\n      <th>E</th>\n      <td>0.992573</td>\n      <td>1.192241</td>\n      <td>-1.046780</td>\n      <td>1.292765</td>\n      <td>-0.054206</td>\n    </tr>\n    <tr>\n      <th>new</th>\n      <td>1.000000</td>\n      <td>2.000000</td>\n      <td>3.000000</td>\n      <td>4.000000</td>\n      <td>4.000000</td>\n    </tr>\n  </tbody>\n</table>\n</div>"
     },
     "metadata": {},
     "execution_count": 35
    }
   ],
   "source": [
    "df['new'] = df[0] + df[2]\n",
    "df"
   ]
  },
  {
   "cell_type": "code",
   "execution_count": 9,
   "metadata": {},
   "outputs": [],
   "source": [
    "from numpy.random import randn\n",
    "np.random.seed(101)"
   ]
  },
  {
   "cell_type": "code",
   "execution_count": 10,
   "metadata": {},
   "outputs": [],
   "source": [
    "df = pd.DataFrame(randn(5,4),index='A B C D E'.split(),columns='W X Y Z'.split())"
   ]
  },
  {
   "cell_type": "code",
   "execution_count": 12,
   "metadata": {},
   "outputs": [
    {
     "output_type": "execute_result",
     "data": {
      "text/plain": [
       "          W         X         Y         Z\n",
       "A  2.706850  0.628133  0.907969  0.503826\n",
       "B  0.651118 -0.319318 -0.848077  0.605965\n",
       "C -2.018168  0.740122  0.528813 -0.589001\n",
       "D  0.188695 -0.758872 -0.933237  0.955057\n",
       "E  0.190794  1.978757  2.605967  0.683509"
      ],
      "text/html": "<div>\n<style scoped>\n    .dataframe tbody tr th:only-of-type {\n        vertical-align: middle;\n    }\n\n    .dataframe tbody tr th {\n        vertical-align: top;\n    }\n\n    .dataframe thead th {\n        text-align: right;\n    }\n</style>\n<table border=\"1\" class=\"dataframe\">\n  <thead>\n    <tr style=\"text-align: right;\">\n      <th></th>\n      <th>W</th>\n      <th>X</th>\n      <th>Y</th>\n      <th>Z</th>\n    </tr>\n  </thead>\n  <tbody>\n    <tr>\n      <th>A</th>\n      <td>2.706850</td>\n      <td>0.628133</td>\n      <td>0.907969</td>\n      <td>0.503826</td>\n    </tr>\n    <tr>\n      <th>B</th>\n      <td>0.651118</td>\n      <td>-0.319318</td>\n      <td>-0.848077</td>\n      <td>0.605965</td>\n    </tr>\n    <tr>\n      <th>C</th>\n      <td>-2.018168</td>\n      <td>0.740122</td>\n      <td>0.528813</td>\n      <td>-0.589001</td>\n    </tr>\n    <tr>\n      <th>D</th>\n      <td>0.188695</td>\n      <td>-0.758872</td>\n      <td>-0.933237</td>\n      <td>0.955057</td>\n    </tr>\n    <tr>\n      <th>E</th>\n      <td>0.190794</td>\n      <td>1.978757</td>\n      <td>2.605967</td>\n      <td>0.683509</td>\n    </tr>\n  </tbody>\n</table>\n</div>"
     },
     "metadata": {},
     "execution_count": 12
    }
   ],
   "source": [
    "df"
   ]
  },
  {
   "cell_type": "code",
   "execution_count": 13,
   "metadata": {},
   "outputs": [
    {
     "output_type": "execute_result",
     "data": {
      "text/plain": [
       "A    2.706850\n",
       "B    0.651118\n",
       "C   -2.018168\n",
       "D    0.188695\n",
       "E    0.190794\n",
       "Name: W, dtype: float64"
      ]
     },
     "metadata": {},
     "execution_count": 13
    }
   ],
   "source": [
    "df['W']"
   ]
  },
  {
   "cell_type": "code",
   "execution_count": 14,
   "metadata": {},
   "outputs": [
    {
     "output_type": "execute_result",
     "data": {
      "text/plain": [
       "2.706849839399938"
      ]
     },
     "metadata": {},
     "execution_count": 14
    }
   ],
   "source": [
    "df['W'][0]"
   ]
  },
  {
   "cell_type": "code",
   "execution_count": 15,
   "metadata": {},
   "outputs": [
    {
     "output_type": "execute_result",
     "data": {
      "text/plain": [
       "A    2.706850\n",
       "B    0.651118\n",
       "Name: W, dtype: float64"
      ]
     },
     "metadata": {},
     "execution_count": 15
    }
   ],
   "source": [
    "df['W'][0:2]"
   ]
  },
  {
   "cell_type": "code",
   "execution_count": 17,
   "metadata": {},
   "outputs": [
    {
     "output_type": "execute_result",
     "data": {
      "text/plain": [
       "A    2.706850\n",
       "B    0.651118\n",
       "C   -2.018168\n",
       "D    0.188695\n",
       "E    0.190794\n",
       "Name: W, dtype: float64"
      ]
     },
     "metadata": {},
     "execution_count": 17
    }
   ],
   "source": [
    "df.W"
   ]
  },
  {
   "cell_type": "code",
   "execution_count": 18,
   "metadata": {},
   "outputs": [
    {
     "output_type": "execute_result",
     "data": {
      "text/plain": [
       "          W         X         Y         Z  min\n",
       "A  2.706850  0.628133  0.907969  0.503826    1\n",
       "B  0.651118 -0.319318 -0.848077  0.605965    2\n",
       "C -2.018168  0.740122  0.528813 -0.589001    3\n",
       "D  0.188695 -0.758872 -0.933237  0.955057    4\n",
       "E  0.190794  1.978757  2.605967  0.683509    5"
      ],
      "text/html": "<div>\n<style scoped>\n    .dataframe tbody tr th:only-of-type {\n        vertical-align: middle;\n    }\n\n    .dataframe tbody tr th {\n        vertical-align: top;\n    }\n\n    .dataframe thead th {\n        text-align: right;\n    }\n</style>\n<table border=\"1\" class=\"dataframe\">\n  <thead>\n    <tr style=\"text-align: right;\">\n      <th></th>\n      <th>W</th>\n      <th>X</th>\n      <th>Y</th>\n      <th>Z</th>\n      <th>min</th>\n    </tr>\n  </thead>\n  <tbody>\n    <tr>\n      <th>A</th>\n      <td>2.706850</td>\n      <td>0.628133</td>\n      <td>0.907969</td>\n      <td>0.503826</td>\n      <td>1</td>\n    </tr>\n    <tr>\n      <th>B</th>\n      <td>0.651118</td>\n      <td>-0.319318</td>\n      <td>-0.848077</td>\n      <td>0.605965</td>\n      <td>2</td>\n    </tr>\n    <tr>\n      <th>C</th>\n      <td>-2.018168</td>\n      <td>0.740122</td>\n      <td>0.528813</td>\n      <td>-0.589001</td>\n      <td>3</td>\n    </tr>\n    <tr>\n      <th>D</th>\n      <td>0.188695</td>\n      <td>-0.758872</td>\n      <td>-0.933237</td>\n      <td>0.955057</td>\n      <td>4</td>\n    </tr>\n    <tr>\n      <th>E</th>\n      <td>0.190794</td>\n      <td>1.978757</td>\n      <td>2.605967</td>\n      <td>0.683509</td>\n      <td>5</td>\n    </tr>\n  </tbody>\n</table>\n</div>"
     },
     "metadata": {},
     "execution_count": 18
    }
   ],
   "source": [
    "df['min']=[1,2,3,4,5]\n",
    "df"
   ]
  },
  {
   "cell_type": "code",
   "execution_count": 19,
   "metadata": {},
   "outputs": [
    {
     "output_type": "execute_result",
     "data": {
      "text/plain": [
       "<bound method NDFrame._add_numeric_operations.<locals>.min of           W         X         Y         Z  min\n",
       "A  2.706850  0.628133  0.907969  0.503826    1\n",
       "B  0.651118 -0.319318 -0.848077  0.605965    2\n",
       "C -2.018168  0.740122  0.528813 -0.589001    3\n",
       "D  0.188695 -0.758872 -0.933237  0.955057    4\n",
       "E  0.190794  1.978757  2.605967  0.683509    5>"
      ]
     },
     "metadata": {},
     "execution_count": 19
    }
   ],
   "source": [
    "df.min"
   ]
  },
  {
   "cell_type": "code",
   "execution_count": 20,
   "metadata": {},
   "outputs": [
    {
     "output_type": "execute_result",
     "data": {
      "text/plain": [
       "          W         X  new         Y         Z  min\n",
       "A  2.706850  0.628133    1  0.907969  0.503826    1\n",
       "B  0.651118 -0.319318    2 -0.848077  0.605965    2\n",
       "C -2.018168  0.740122    3  0.528813 -0.589001    3\n",
       "D  0.188695 -0.758872    4 -0.933237  0.955057    4\n",
       "E  0.190794  1.978757    5  2.605967  0.683509    5"
      ],
      "text/html": "<div>\n<style scoped>\n    .dataframe tbody tr th:only-of-type {\n        vertical-align: middle;\n    }\n\n    .dataframe tbody tr th {\n        vertical-align: top;\n    }\n\n    .dataframe thead th {\n        text-align: right;\n    }\n</style>\n<table border=\"1\" class=\"dataframe\">\n  <thead>\n    <tr style=\"text-align: right;\">\n      <th></th>\n      <th>W</th>\n      <th>X</th>\n      <th>new</th>\n      <th>Y</th>\n      <th>Z</th>\n      <th>min</th>\n    </tr>\n  </thead>\n  <tbody>\n    <tr>\n      <th>A</th>\n      <td>2.706850</td>\n      <td>0.628133</td>\n      <td>1</td>\n      <td>0.907969</td>\n      <td>0.503826</td>\n      <td>1</td>\n    </tr>\n    <tr>\n      <th>B</th>\n      <td>0.651118</td>\n      <td>-0.319318</td>\n      <td>2</td>\n      <td>-0.848077</td>\n      <td>0.605965</td>\n      <td>2</td>\n    </tr>\n    <tr>\n      <th>C</th>\n      <td>-2.018168</td>\n      <td>0.740122</td>\n      <td>3</td>\n      <td>0.528813</td>\n      <td>-0.589001</td>\n      <td>3</td>\n    </tr>\n    <tr>\n      <th>D</th>\n      <td>0.188695</td>\n      <td>-0.758872</td>\n      <td>4</td>\n      <td>-0.933237</td>\n      <td>0.955057</td>\n      <td>4</td>\n    </tr>\n    <tr>\n      <th>E</th>\n      <td>0.190794</td>\n      <td>1.978757</td>\n      <td>5</td>\n      <td>2.605967</td>\n      <td>0.683509</td>\n      <td>5</td>\n    </tr>\n  </tbody>\n</table>\n</div>"
     },
     "metadata": {},
     "execution_count": 20
    }
   ],
   "source": [
    "df.insert(2,'new',[1,2,3,4,5])\n",
    "df"
   ]
  },
  {
   "cell_type": "code",
   "execution_count": 21,
   "metadata": {},
   "outputs": [
    {
     "output_type": "execute_result",
     "data": {
      "text/plain": [
       "          W         X         Y         Z  min\n",
       "A  2.706850  0.628133  0.907969  0.503826    1\n",
       "B  0.651118 -0.319318 -0.848077  0.605965    2\n",
       "C -2.018168  0.740122  0.528813 -0.589001    3\n",
       "D  0.188695 -0.758872 -0.933237  0.955057    4\n",
       "E  0.190794  1.978757  2.605967  0.683509    5"
      ],
      "text/html": "<div>\n<style scoped>\n    .dataframe tbody tr th:only-of-type {\n        vertical-align: middle;\n    }\n\n    .dataframe tbody tr th {\n        vertical-align: top;\n    }\n\n    .dataframe thead th {\n        text-align: right;\n    }\n</style>\n<table border=\"1\" class=\"dataframe\">\n  <thead>\n    <tr style=\"text-align: right;\">\n      <th></th>\n      <th>W</th>\n      <th>X</th>\n      <th>Y</th>\n      <th>Z</th>\n      <th>min</th>\n    </tr>\n  </thead>\n  <tbody>\n    <tr>\n      <th>A</th>\n      <td>2.706850</td>\n      <td>0.628133</td>\n      <td>0.907969</td>\n      <td>0.503826</td>\n      <td>1</td>\n    </tr>\n    <tr>\n      <th>B</th>\n      <td>0.651118</td>\n      <td>-0.319318</td>\n      <td>-0.848077</td>\n      <td>0.605965</td>\n      <td>2</td>\n    </tr>\n    <tr>\n      <th>C</th>\n      <td>-2.018168</td>\n      <td>0.740122</td>\n      <td>0.528813</td>\n      <td>-0.589001</td>\n      <td>3</td>\n    </tr>\n    <tr>\n      <th>D</th>\n      <td>0.188695</td>\n      <td>-0.758872</td>\n      <td>-0.933237</td>\n      <td>0.955057</td>\n      <td>4</td>\n    </tr>\n    <tr>\n      <th>E</th>\n      <td>0.190794</td>\n      <td>1.978757</td>\n      <td>2.605967</td>\n      <td>0.683509</td>\n      <td>5</td>\n    </tr>\n  </tbody>\n</table>\n</div>"
     },
     "metadata": {},
     "execution_count": 21
    }
   ],
   "source": [
    "df.drop('new',axis=1)"
   ]
  },
  {
   "cell_type": "code",
   "execution_count": 22,
   "metadata": {},
   "outputs": [
    {
     "output_type": "execute_result",
     "data": {
      "text/plain": [
       "          W         X  new         Y         Z  min\n",
       "A  2.706850  0.628133    1  0.907969  0.503826    1\n",
       "B  0.651118 -0.319318    2 -0.848077  0.605965    2\n",
       "C -2.018168  0.740122    3  0.528813 -0.589001    3\n",
       "D  0.188695 -0.758872    4 -0.933237  0.955057    4\n",
       "E  0.190794  1.978757    5  2.605967  0.683509    5"
      ],
      "text/html": "<div>\n<style scoped>\n    .dataframe tbody tr th:only-of-type {\n        vertical-align: middle;\n    }\n\n    .dataframe tbody tr th {\n        vertical-align: top;\n    }\n\n    .dataframe thead th {\n        text-align: right;\n    }\n</style>\n<table border=\"1\" class=\"dataframe\">\n  <thead>\n    <tr style=\"text-align: right;\">\n      <th></th>\n      <th>W</th>\n      <th>X</th>\n      <th>new</th>\n      <th>Y</th>\n      <th>Z</th>\n      <th>min</th>\n    </tr>\n  </thead>\n  <tbody>\n    <tr>\n      <th>A</th>\n      <td>2.706850</td>\n      <td>0.628133</td>\n      <td>1</td>\n      <td>0.907969</td>\n      <td>0.503826</td>\n      <td>1</td>\n    </tr>\n    <tr>\n      <th>B</th>\n      <td>0.651118</td>\n      <td>-0.319318</td>\n      <td>2</td>\n      <td>-0.848077</td>\n      <td>0.605965</td>\n      <td>2</td>\n    </tr>\n    <tr>\n      <th>C</th>\n      <td>-2.018168</td>\n      <td>0.740122</td>\n      <td>3</td>\n      <td>0.528813</td>\n      <td>-0.589001</td>\n      <td>3</td>\n    </tr>\n    <tr>\n      <th>D</th>\n      <td>0.188695</td>\n      <td>-0.758872</td>\n      <td>4</td>\n      <td>-0.933237</td>\n      <td>0.955057</td>\n      <td>4</td>\n    </tr>\n    <tr>\n      <th>E</th>\n      <td>0.190794</td>\n      <td>1.978757</td>\n      <td>5</td>\n      <td>2.605967</td>\n      <td>0.683509</td>\n      <td>5</td>\n    </tr>\n  </tbody>\n</table>\n</div>"
     },
     "metadata": {},
     "execution_count": 22
    }
   ],
   "source": [
    "df"
   ]
  },
  {
   "cell_type": "code",
   "execution_count": 23,
   "metadata": {},
   "outputs": [
    {
     "output_type": "execute_result",
     "data": {
      "text/plain": [
       "          W         X  new         Y         Z  min\n",
       "A  2.706850  0.628133    1  0.907969  0.503826    1\n",
       "B  0.651118 -0.319318    2 -0.848077  0.605965    2\n",
       "C -2.018168  0.740122    3  0.528813 -0.589001    3\n",
       "D  0.188695 -0.758872    4 -0.933237  0.955057    4"
      ],
      "text/html": "<div>\n<style scoped>\n    .dataframe tbody tr th:only-of-type {\n        vertical-align: middle;\n    }\n\n    .dataframe tbody tr th {\n        vertical-align: top;\n    }\n\n    .dataframe thead th {\n        text-align: right;\n    }\n</style>\n<table border=\"1\" class=\"dataframe\">\n  <thead>\n    <tr style=\"text-align: right;\">\n      <th></th>\n      <th>W</th>\n      <th>X</th>\n      <th>new</th>\n      <th>Y</th>\n      <th>Z</th>\n      <th>min</th>\n    </tr>\n  </thead>\n  <tbody>\n    <tr>\n      <th>A</th>\n      <td>2.706850</td>\n      <td>0.628133</td>\n      <td>1</td>\n      <td>0.907969</td>\n      <td>0.503826</td>\n      <td>1</td>\n    </tr>\n    <tr>\n      <th>B</th>\n      <td>0.651118</td>\n      <td>-0.319318</td>\n      <td>2</td>\n      <td>-0.848077</td>\n      <td>0.605965</td>\n      <td>2</td>\n    </tr>\n    <tr>\n      <th>C</th>\n      <td>-2.018168</td>\n      <td>0.740122</td>\n      <td>3</td>\n      <td>0.528813</td>\n      <td>-0.589001</td>\n      <td>3</td>\n    </tr>\n    <tr>\n      <th>D</th>\n      <td>0.188695</td>\n      <td>-0.758872</td>\n      <td>4</td>\n      <td>-0.933237</td>\n      <td>0.955057</td>\n      <td>4</td>\n    </tr>\n  </tbody>\n</table>\n</div>"
     },
     "metadata": {},
     "execution_count": 23
    }
   ],
   "source": [
    "df.drop('E',axis=0)"
   ]
  },
  {
   "cell_type": "code",
   "execution_count": 24,
   "metadata": {},
   "outputs": [
    {
     "output_type": "execute_result",
     "data": {
      "text/plain": [
       "          W         X  new         Y         Z  min\n",
       "A  2.706850  0.628133    1  0.907969  0.503826    1\n",
       "B  0.651118 -0.319318    2 -0.848077  0.605965    2\n",
       "C -2.018168  0.740122    3  0.528813 -0.589001    3\n",
       "D  0.188695 -0.758872    4 -0.933237  0.955057    4\n",
       "E  0.190794  1.978757    5  2.605967  0.683509    5"
      ],
      "text/html": "<div>\n<style scoped>\n    .dataframe tbody tr th:only-of-type {\n        vertical-align: middle;\n    }\n\n    .dataframe tbody tr th {\n        vertical-align: top;\n    }\n\n    .dataframe thead th {\n        text-align: right;\n    }\n</style>\n<table border=\"1\" class=\"dataframe\">\n  <thead>\n    <tr style=\"text-align: right;\">\n      <th></th>\n      <th>W</th>\n      <th>X</th>\n      <th>new</th>\n      <th>Y</th>\n      <th>Z</th>\n      <th>min</th>\n    </tr>\n  </thead>\n  <tbody>\n    <tr>\n      <th>A</th>\n      <td>2.706850</td>\n      <td>0.628133</td>\n      <td>1</td>\n      <td>0.907969</td>\n      <td>0.503826</td>\n      <td>1</td>\n    </tr>\n    <tr>\n      <th>B</th>\n      <td>0.651118</td>\n      <td>-0.319318</td>\n      <td>2</td>\n      <td>-0.848077</td>\n      <td>0.605965</td>\n      <td>2</td>\n    </tr>\n    <tr>\n      <th>C</th>\n      <td>-2.018168</td>\n      <td>0.740122</td>\n      <td>3</td>\n      <td>0.528813</td>\n      <td>-0.589001</td>\n      <td>3</td>\n    </tr>\n    <tr>\n      <th>D</th>\n      <td>0.188695</td>\n      <td>-0.758872</td>\n      <td>4</td>\n      <td>-0.933237</td>\n      <td>0.955057</td>\n      <td>4</td>\n    </tr>\n    <tr>\n      <th>E</th>\n      <td>0.190794</td>\n      <td>1.978757</td>\n      <td>5</td>\n      <td>2.605967</td>\n      <td>0.683509</td>\n      <td>5</td>\n    </tr>\n  </tbody>\n</table>\n</div>"
     },
     "metadata": {},
     "execution_count": 24
    }
   ],
   "source": [
    "df"
   ]
  },
  {
   "cell_type": "code",
   "execution_count": 25,
   "metadata": {},
   "outputs": [
    {
     "output_type": "execute_result",
     "data": {
      "text/plain": [
       "  index         W         X  new         Y         Z  min\n",
       "0     A  2.706850  0.628133    1  0.907969  0.503826    1\n",
       "1     B  0.651118 -0.319318    2 -0.848077  0.605965    2\n",
       "2     C -2.018168  0.740122    3  0.528813 -0.589001    3\n",
       "3     D  0.188695 -0.758872    4 -0.933237  0.955057    4\n",
       "4     E  0.190794  1.978757    5  2.605967  0.683509    5"
      ],
      "text/html": "<div>\n<style scoped>\n    .dataframe tbody tr th:only-of-type {\n        vertical-align: middle;\n    }\n\n    .dataframe tbody tr th {\n        vertical-align: top;\n    }\n\n    .dataframe thead th {\n        text-align: right;\n    }\n</style>\n<table border=\"1\" class=\"dataframe\">\n  <thead>\n    <tr style=\"text-align: right;\">\n      <th></th>\n      <th>index</th>\n      <th>W</th>\n      <th>X</th>\n      <th>new</th>\n      <th>Y</th>\n      <th>Z</th>\n      <th>min</th>\n    </tr>\n  </thead>\n  <tbody>\n    <tr>\n      <th>0</th>\n      <td>A</td>\n      <td>2.706850</td>\n      <td>0.628133</td>\n      <td>1</td>\n      <td>0.907969</td>\n      <td>0.503826</td>\n      <td>1</td>\n    </tr>\n    <tr>\n      <th>1</th>\n      <td>B</td>\n      <td>0.651118</td>\n      <td>-0.319318</td>\n      <td>2</td>\n      <td>-0.848077</td>\n      <td>0.605965</td>\n      <td>2</td>\n    </tr>\n    <tr>\n      <th>2</th>\n      <td>C</td>\n      <td>-2.018168</td>\n      <td>0.740122</td>\n      <td>3</td>\n      <td>0.528813</td>\n      <td>-0.589001</td>\n      <td>3</td>\n    </tr>\n    <tr>\n      <th>3</th>\n      <td>D</td>\n      <td>0.188695</td>\n      <td>-0.758872</td>\n      <td>4</td>\n      <td>-0.933237</td>\n      <td>0.955057</td>\n      <td>4</td>\n    </tr>\n    <tr>\n      <th>4</th>\n      <td>E</td>\n      <td>0.190794</td>\n      <td>1.978757</td>\n      <td>5</td>\n      <td>2.605967</td>\n      <td>0.683509</td>\n      <td>5</td>\n    </tr>\n  </tbody>\n</table>\n</div>"
     },
     "metadata": {},
     "execution_count": 25
    }
   ],
   "source": [
    "df.reset_index()\n"
   ]
  },
  {
   "cell_type": "code",
   "execution_count": 29,
   "metadata": {},
   "outputs": [
    {
     "output_type": "execute_result",
     "data": {
      "text/plain": [
       "['JKT', 'BGR', 'DPK', 'TGR', 'BKS']"
      ]
     },
     "metadata": {},
     "execution_count": 29
    }
   ],
   "source": [
    "newind = 'JKT BGR DPK TGR BKS'.split()\n",
    "newind"
   ]
  },
  {
   "cell_type": "code",
   "execution_count": 30,
   "metadata": {},
   "outputs": [
    {
     "output_type": "execute_result",
     "data": {
      "text/plain": [
       "          W         X  new         Y         Z  min Kota\n",
       "A  2.706850  0.628133    1  0.907969  0.503826    1  JKT\n",
       "B  0.651118 -0.319318    2 -0.848077  0.605965    2  BGR\n",
       "C -2.018168  0.740122    3  0.528813 -0.589001    3  DPK\n",
       "D  0.188695 -0.758872    4 -0.933237  0.955057    4  TGR\n",
       "E  0.190794  1.978757    5  2.605967  0.683509    5  BKS"
      ],
      "text/html": "<div>\n<style scoped>\n    .dataframe tbody tr th:only-of-type {\n        vertical-align: middle;\n    }\n\n    .dataframe tbody tr th {\n        vertical-align: top;\n    }\n\n    .dataframe thead th {\n        text-align: right;\n    }\n</style>\n<table border=\"1\" class=\"dataframe\">\n  <thead>\n    <tr style=\"text-align: right;\">\n      <th></th>\n      <th>W</th>\n      <th>X</th>\n      <th>new</th>\n      <th>Y</th>\n      <th>Z</th>\n      <th>min</th>\n      <th>Kota</th>\n    </tr>\n  </thead>\n  <tbody>\n    <tr>\n      <th>A</th>\n      <td>2.706850</td>\n      <td>0.628133</td>\n      <td>1</td>\n      <td>0.907969</td>\n      <td>0.503826</td>\n      <td>1</td>\n      <td>JKT</td>\n    </tr>\n    <tr>\n      <th>B</th>\n      <td>0.651118</td>\n      <td>-0.319318</td>\n      <td>2</td>\n      <td>-0.848077</td>\n      <td>0.605965</td>\n      <td>2</td>\n      <td>BGR</td>\n    </tr>\n    <tr>\n      <th>C</th>\n      <td>-2.018168</td>\n      <td>0.740122</td>\n      <td>3</td>\n      <td>0.528813</td>\n      <td>-0.589001</td>\n      <td>3</td>\n      <td>DPK</td>\n    </tr>\n    <tr>\n      <th>D</th>\n      <td>0.188695</td>\n      <td>-0.758872</td>\n      <td>4</td>\n      <td>-0.933237</td>\n      <td>0.955057</td>\n      <td>4</td>\n      <td>TGR</td>\n    </tr>\n    <tr>\n      <th>E</th>\n      <td>0.190794</td>\n      <td>1.978757</td>\n      <td>5</td>\n      <td>2.605967</td>\n      <td>0.683509</td>\n      <td>5</td>\n      <td>BKS</td>\n    </tr>\n  </tbody>\n</table>\n</div>"
     },
     "metadata": {},
     "execution_count": 30
    }
   ],
   "source": [
    "df['Kota'] = newind\n",
    "df"
   ]
  },
  {
   "cell_type": "code",
   "execution_count": 31,
   "metadata": {},
   "outputs": [
    {
     "output_type": "execute_result",
     "data": {
      "text/plain": [
       "             W         X  new         Y         Z  min\n",
       "Kota                                                  \n",
       "JKT   2.706850  0.628133    1  0.907969  0.503826    1\n",
       "BGR   0.651118 -0.319318    2 -0.848077  0.605965    2\n",
       "DPK  -2.018168  0.740122    3  0.528813 -0.589001    3\n",
       "TGR   0.188695 -0.758872    4 -0.933237  0.955057    4\n",
       "BKS   0.190794  1.978757    5  2.605967  0.683509    5"
      ],
      "text/html": "<div>\n<style scoped>\n    .dataframe tbody tr th:only-of-type {\n        vertical-align: middle;\n    }\n\n    .dataframe tbody tr th {\n        vertical-align: top;\n    }\n\n    .dataframe thead th {\n        text-align: right;\n    }\n</style>\n<table border=\"1\" class=\"dataframe\">\n  <thead>\n    <tr style=\"text-align: right;\">\n      <th></th>\n      <th>W</th>\n      <th>X</th>\n      <th>new</th>\n      <th>Y</th>\n      <th>Z</th>\n      <th>min</th>\n    </tr>\n    <tr>\n      <th>Kota</th>\n      <th></th>\n      <th></th>\n      <th></th>\n      <th></th>\n      <th></th>\n      <th></th>\n    </tr>\n  </thead>\n  <tbody>\n    <tr>\n      <th>JKT</th>\n      <td>2.706850</td>\n      <td>0.628133</td>\n      <td>1</td>\n      <td>0.907969</td>\n      <td>0.503826</td>\n      <td>1</td>\n    </tr>\n    <tr>\n      <th>BGR</th>\n      <td>0.651118</td>\n      <td>-0.319318</td>\n      <td>2</td>\n      <td>-0.848077</td>\n      <td>0.605965</td>\n      <td>2</td>\n    </tr>\n    <tr>\n      <th>DPK</th>\n      <td>-2.018168</td>\n      <td>0.740122</td>\n      <td>3</td>\n      <td>0.528813</td>\n      <td>-0.589001</td>\n      <td>3</td>\n    </tr>\n    <tr>\n      <th>TGR</th>\n      <td>0.188695</td>\n      <td>-0.758872</td>\n      <td>4</td>\n      <td>-0.933237</td>\n      <td>0.955057</td>\n      <td>4</td>\n    </tr>\n    <tr>\n      <th>BKS</th>\n      <td>0.190794</td>\n      <td>1.978757</td>\n      <td>5</td>\n      <td>2.605967</td>\n      <td>0.683509</td>\n      <td>5</td>\n    </tr>\n  </tbody>\n</table>\n</div>"
     },
     "metadata": {},
     "execution_count": 31
    }
   ],
   "source": [
    "df.set_index('Kota')"
   ]
  },
  {
   "cell_type": "code",
   "execution_count": 32,
   "metadata": {},
   "outputs": [],
   "source": [
    "df.drop('new',axis=1,inplace=True)"
   ]
  },
  {
   "cell_type": "code",
   "execution_count": 33,
   "metadata": {},
   "outputs": [
    {
     "output_type": "execute_result",
     "data": {
      "text/plain": [
       "          W         X         Y         Z  min Kota\n",
       "A  2.706850  0.628133  0.907969  0.503826    1  JKT\n",
       "B  0.651118 -0.319318 -0.848077  0.605965    2  BGR\n",
       "C -2.018168  0.740122  0.528813 -0.589001    3  DPK\n",
       "D  0.188695 -0.758872 -0.933237  0.955057    4  TGR\n",
       "E  0.190794  1.978757  2.605967  0.683509    5  BKS"
      ],
      "text/html": "<div>\n<style scoped>\n    .dataframe tbody tr th:only-of-type {\n        vertical-align: middle;\n    }\n\n    .dataframe tbody tr th {\n        vertical-align: top;\n    }\n\n    .dataframe thead th {\n        text-align: right;\n    }\n</style>\n<table border=\"1\" class=\"dataframe\">\n  <thead>\n    <tr style=\"text-align: right;\">\n      <th></th>\n      <th>W</th>\n      <th>X</th>\n      <th>Y</th>\n      <th>Z</th>\n      <th>min</th>\n      <th>Kota</th>\n    </tr>\n  </thead>\n  <tbody>\n    <tr>\n      <th>A</th>\n      <td>2.706850</td>\n      <td>0.628133</td>\n      <td>0.907969</td>\n      <td>0.503826</td>\n      <td>1</td>\n      <td>JKT</td>\n    </tr>\n    <tr>\n      <th>B</th>\n      <td>0.651118</td>\n      <td>-0.319318</td>\n      <td>-0.848077</td>\n      <td>0.605965</td>\n      <td>2</td>\n      <td>BGR</td>\n    </tr>\n    <tr>\n      <th>C</th>\n      <td>-2.018168</td>\n      <td>0.740122</td>\n      <td>0.528813</td>\n      <td>-0.589001</td>\n      <td>3</td>\n      <td>DPK</td>\n    </tr>\n    <tr>\n      <th>D</th>\n      <td>0.188695</td>\n      <td>-0.758872</td>\n      <td>-0.933237</td>\n      <td>0.955057</td>\n      <td>4</td>\n      <td>TGR</td>\n    </tr>\n    <tr>\n      <th>E</th>\n      <td>0.190794</td>\n      <td>1.978757</td>\n      <td>2.605967</td>\n      <td>0.683509</td>\n      <td>5</td>\n      <td>BKS</td>\n    </tr>\n  </tbody>\n</table>\n</div>"
     },
     "metadata": {},
     "execution_count": 33
    }
   ],
   "source": [
    "df"
   ]
  },
  {
   "cell_type": "code",
   "execution_count": 34,
   "metadata": {},
   "outputs": [],
   "source": [
    "df.set_index('Kota',inplace=True)"
   ]
  },
  {
   "cell_type": "code",
   "execution_count": 35,
   "metadata": {},
   "outputs": [
    {
     "output_type": "execute_result",
     "data": {
      "text/plain": [
       "             W         X         Y         Z  min\n",
       "Kota                                             \n",
       "JKT   2.706850  0.628133  0.907969  0.503826    1\n",
       "BGR   0.651118 -0.319318 -0.848077  0.605965    2\n",
       "DPK  -2.018168  0.740122  0.528813 -0.589001    3\n",
       "TGR   0.188695 -0.758872 -0.933237  0.955057    4\n",
       "BKS   0.190794  1.978757  2.605967  0.683509    5"
      ],
      "text/html": "<div>\n<style scoped>\n    .dataframe tbody tr th:only-of-type {\n        vertical-align: middle;\n    }\n\n    .dataframe tbody tr th {\n        vertical-align: top;\n    }\n\n    .dataframe thead th {\n        text-align: right;\n    }\n</style>\n<table border=\"1\" class=\"dataframe\">\n  <thead>\n    <tr style=\"text-align: right;\">\n      <th></th>\n      <th>W</th>\n      <th>X</th>\n      <th>Y</th>\n      <th>Z</th>\n      <th>min</th>\n    </tr>\n    <tr>\n      <th>Kota</th>\n      <th></th>\n      <th></th>\n      <th></th>\n      <th></th>\n      <th></th>\n    </tr>\n  </thead>\n  <tbody>\n    <tr>\n      <th>JKT</th>\n      <td>2.706850</td>\n      <td>0.628133</td>\n      <td>0.907969</td>\n      <td>0.503826</td>\n      <td>1</td>\n    </tr>\n    <tr>\n      <th>BGR</th>\n      <td>0.651118</td>\n      <td>-0.319318</td>\n      <td>-0.848077</td>\n      <td>0.605965</td>\n      <td>2</td>\n    </tr>\n    <tr>\n      <th>DPK</th>\n      <td>-2.018168</td>\n      <td>0.740122</td>\n      <td>0.528813</td>\n      <td>-0.589001</td>\n      <td>3</td>\n    </tr>\n    <tr>\n      <th>TGR</th>\n      <td>0.188695</td>\n      <td>-0.758872</td>\n      <td>-0.933237</td>\n      <td>0.955057</td>\n      <td>4</td>\n    </tr>\n    <tr>\n      <th>BKS</th>\n      <td>0.190794</td>\n      <td>1.978757</td>\n      <td>2.605967</td>\n      <td>0.683509</td>\n      <td>5</td>\n    </tr>\n  </tbody>\n</table>\n</div>"
     },
     "metadata": {},
     "execution_count": 35
    }
   ],
   "source": [
    "df"
   ]
  },
  {
   "cell_type": "code",
   "execution_count": 36,
   "metadata": {},
   "outputs": [],
   "source": [
    "df.drop('min',axis=1,inplace=True)"
   ]
  },
  {
   "cell_type": "code",
   "execution_count": 38,
   "metadata": {},
   "outputs": [
    {
     "output_type": "execute_result",
     "data": {
      "text/plain": [
       "             W         X         Y         Z\n",
       "Kota                                        \n",
       "JKT   2.706850  0.628133  0.907969  0.503826\n",
       "BGR   0.651118 -0.319318 -0.848077  0.605965\n",
       "DPK  -2.018168  0.740122  0.528813 -0.589001\n",
       "TGR   0.188695 -0.758872 -0.933237  0.955057\n",
       "BKS   0.190794  1.978757  2.605967  0.683509"
      ],
      "text/html": "<div>\n<style scoped>\n    .dataframe tbody tr th:only-of-type {\n        vertical-align: middle;\n    }\n\n    .dataframe tbody tr th {\n        vertical-align: top;\n    }\n\n    .dataframe thead th {\n        text-align: right;\n    }\n</style>\n<table border=\"1\" class=\"dataframe\">\n  <thead>\n    <tr style=\"text-align: right;\">\n      <th></th>\n      <th>W</th>\n      <th>X</th>\n      <th>Y</th>\n      <th>Z</th>\n    </tr>\n    <tr>\n      <th>Kota</th>\n      <th></th>\n      <th></th>\n      <th></th>\n      <th></th>\n    </tr>\n  </thead>\n  <tbody>\n    <tr>\n      <th>JKT</th>\n      <td>2.706850</td>\n      <td>0.628133</td>\n      <td>0.907969</td>\n      <td>0.503826</td>\n    </tr>\n    <tr>\n      <th>BGR</th>\n      <td>0.651118</td>\n      <td>-0.319318</td>\n      <td>-0.848077</td>\n      <td>0.605965</td>\n    </tr>\n    <tr>\n      <th>DPK</th>\n      <td>-2.018168</td>\n      <td>0.740122</td>\n      <td>0.528813</td>\n      <td>-0.589001</td>\n    </tr>\n    <tr>\n      <th>TGR</th>\n      <td>0.188695</td>\n      <td>-0.758872</td>\n      <td>-0.933237</td>\n      <td>0.955057</td>\n    </tr>\n    <tr>\n      <th>BKS</th>\n      <td>0.190794</td>\n      <td>1.978757</td>\n      <td>2.605967</td>\n      <td>0.683509</td>\n    </tr>\n  </tbody>\n</table>\n</div>"
     },
     "metadata": {},
     "execution_count": 38
    }
   ],
   "source": [
    "df"
   ]
  },
  {
   "cell_type": "code",
   "execution_count": null,
   "metadata": {},
   "outputs": [],
   "source": []
  }
 ]
}